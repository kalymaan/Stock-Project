{
 "cells": [
  {
   "cell_type": "code",
   "execution_count": 19,
   "metadata": {
    "collapsed": true
   },
   "outputs": [],
   "source": [
    "import pandas as pd  \n",
    "import numpy as np \n",
    "import matplotlib.pyplot as plt \n",
    "import matplotlib.ticker as ticker \n",
    "import datetime as dt \n",
    "import matplotlib.dates as mdates "
   ]
  },
  {
   "cell_type": "code",
   "execution_count": 20,
   "metadata": {},
   "outputs": [
    {
     "data": {
      "text/html": [
       "<div>\n",
       "<style>\n",
       "    .dataframe thead tr:only-child th {\n",
       "        text-align: right;\n",
       "    }\n",
       "\n",
       "    .dataframe thead th {\n",
       "        text-align: left;\n",
       "    }\n",
       "\n",
       "    .dataframe tbody tr th {\n",
       "        vertical-align: top;\n",
       "    }\n",
       "</style>\n",
       "<table border=\"1\" class=\"dataframe\">\n",
       "  <thead>\n",
       "    <tr style=\"text-align: right;\">\n",
       "      <th></th>\n",
       "      <th>Date</th>\n",
       "      <th>Open</th>\n",
       "      <th>High</th>\n",
       "      <th>Low</th>\n",
       "      <th>Close</th>\n",
       "      <th>Volume</th>\n",
       "      <th>Name</th>\n",
       "    </tr>\n",
       "  </thead>\n",
       "  <tbody>\n",
       "    <tr>\n",
       "      <th>0</th>\n",
       "      <td>2012-08-13</td>\n",
       "      <td>92.29</td>\n",
       "      <td>92.59</td>\n",
       "      <td>91.74</td>\n",
       "      <td>92.40</td>\n",
       "      <td>2075391.0</td>\n",
       "      <td>MMM</td>\n",
       "    </tr>\n",
       "    <tr>\n",
       "      <th>1</th>\n",
       "      <td>2012-08-14</td>\n",
       "      <td>92.36</td>\n",
       "      <td>92.50</td>\n",
       "      <td>92.01</td>\n",
       "      <td>92.30</td>\n",
       "      <td>1843476.0</td>\n",
       "      <td>MMM</td>\n",
       "    </tr>\n",
       "    <tr>\n",
       "      <th>2</th>\n",
       "      <td>2012-08-15</td>\n",
       "      <td>92.00</td>\n",
       "      <td>92.74</td>\n",
       "      <td>91.94</td>\n",
       "      <td>92.54</td>\n",
       "      <td>1983395.0</td>\n",
       "      <td>MMM</td>\n",
       "    </tr>\n",
       "    <tr>\n",
       "      <th>3</th>\n",
       "      <td>2012-08-16</td>\n",
       "      <td>92.75</td>\n",
       "      <td>93.87</td>\n",
       "      <td>92.21</td>\n",
       "      <td>93.74</td>\n",
       "      <td>3395145.0</td>\n",
       "      <td>MMM</td>\n",
       "    </tr>\n",
       "    <tr>\n",
       "      <th>4</th>\n",
       "      <td>2012-08-17</td>\n",
       "      <td>93.93</td>\n",
       "      <td>94.30</td>\n",
       "      <td>93.59</td>\n",
       "      <td>94.24</td>\n",
       "      <td>3069513.0</td>\n",
       "      <td>MMM</td>\n",
       "    </tr>\n",
       "  </tbody>\n",
       "</table>\n",
       "</div>"
      ],
      "text/plain": [
       "         Date   Open   High    Low  Close     Volume Name\n",
       "0  2012-08-13  92.29  92.59  91.74  92.40  2075391.0  MMM\n",
       "1  2012-08-14  92.36  92.50  92.01  92.30  1843476.0  MMM\n",
       "2  2012-08-15  92.00  92.74  91.94  92.54  1983395.0  MMM\n",
       "3  2012-08-16  92.75  93.87  92.21  93.74  3395145.0  MMM\n",
       "4  2012-08-17  93.93  94.30  93.59  94.24  3069513.0  MMM"
      ]
     },
     "execution_count": 20,
     "metadata": {},
     "output_type": "execute_result"
    }
   ],
   "source": [
    "# df = pd.read_csv('sandp500/all_stocks_1yr.csv', parse_dates = True, index_col = 0)\n",
    "\n",
    "all5df = pd.read_csv('sandp500/all_stocks_5yr.csv')\n",
    "all5df.head()\n"
   ]
  },
  {
   "cell_type": "code",
   "execution_count": 25,
   "metadata": {},
   "outputs": [
    {
     "data": {
      "text/html": [
       "<div>\n",
       "<style>\n",
       "    .dataframe thead tr:only-child th {\n",
       "        text-align: right;\n",
       "    }\n",
       "\n",
       "    .dataframe thead th {\n",
       "        text-align: left;\n",
       "    }\n",
       "\n",
       "    .dataframe tbody tr th {\n",
       "        vertical-align: top;\n",
       "    }\n",
       "</style>\n",
       "<table border=\"1\" class=\"dataframe\">\n",
       "  <thead>\n",
       "    <tr style=\"text-align: right;\">\n",
       "      <th></th>\n",
       "      <th>Total</th>\n",
       "      <th>Percent</th>\n",
       "    </tr>\n",
       "  </thead>\n",
       "  <tbody>\n",
       "    <tr>\n",
       "      <th>Volume</th>\n",
       "      <td>406</td>\n",
       "      <td>0.066908</td>\n",
       "    </tr>\n",
       "    <tr>\n",
       "      <th>Open</th>\n",
       "      <td>384</td>\n",
       "      <td>0.063283</td>\n",
       "    </tr>\n",
       "    <tr>\n",
       "      <th>Low</th>\n",
       "      <td>227</td>\n",
       "      <td>0.037409</td>\n",
       "    </tr>\n",
       "    <tr>\n",
       "      <th>High</th>\n",
       "      <td>208</td>\n",
       "      <td>0.034278</td>\n",
       "    </tr>\n",
       "    <tr>\n",
       "      <th>Name</th>\n",
       "      <td>0</td>\n",
       "      <td>0.000000</td>\n",
       "    </tr>\n",
       "    <tr>\n",
       "      <th>Close</th>\n",
       "      <td>0</td>\n",
       "      <td>0.000000</td>\n",
       "    </tr>\n",
       "    <tr>\n",
       "      <th>Date</th>\n",
       "      <td>0</td>\n",
       "      <td>0.000000</td>\n",
       "    </tr>\n",
       "  </tbody>\n",
       "</table>\n",
       "</div>"
      ],
      "text/plain": [
       "        Total   Percent\n",
       "Volume    406  0.066908\n",
       "Open      384  0.063283\n",
       "Low       227  0.037409\n",
       "High      208  0.034278\n",
       "Name        0  0.000000\n",
       "Close       0  0.000000\n",
       "Date        0  0.000000"
      ]
     },
     "execution_count": 25,
     "metadata": {},
     "output_type": "execute_result"
    }
   ],
   "source": [
    "total = all5df.isnull().sum().sort_values(ascending=False) #counts all null cells in a row\n",
    "percent = ((all5df.isnull().sum()/all5df.isnull().count()).sort_values(ascending=False)*100) #sees what percent of the data is null\n",
    "missing_data = pd.concat([total,percent],axis=1,keys=['Total','Percent']) #combines the two matrixies\n",
    "missing_data #this displays the matrix"
   ]
  },
  {
   "cell_type": "code",
   "execution_count": 21,
   "metadata": {
    "scrolled": true
   },
   "outputs": [
    {
     "name": "stdout",
     "output_type": "stream",
     "text": [
      "['A' 'AAL' 'AAP' 'AAPL' 'ABBV' 'ABC' 'ABT' 'ACN' 'ADBE' 'ADI' 'ADM' 'ADP'\n",
      " 'ADS' 'ADSK' 'AEE' 'AEP' 'AES' 'AET' 'AFL' 'AGN' 'AIG' 'AIV' 'AIZ' 'AJG'\n",
      " 'AKAM' 'ALB' 'ALGN' 'ALK' 'ALL' 'ALLE' 'ALXN' 'AMAT' 'AMD' 'AME' 'AMG'\n",
      " 'AMGN' 'AMP' 'AMZN' 'ANDV' 'ANSS' 'ANTM' 'AON' 'AOS' 'APA' 'APC' 'APD'\n",
      " 'APH' 'ARE' 'ARNC' 'ATVI' 'AVB' 'AVGO' 'AVY' 'AWK' 'AXP' 'AYI' 'AZO' 'BA'\n",
      " 'BAC' 'BAX' 'BBT' 'BBY' 'BCR' 'BDX' 'BEN' 'BF.B' 'BHF' 'BHGE' 'BIIB' 'BK'\n",
      " 'BLK' 'BLL' 'BMY' 'BRK.B' 'BSX' 'BWA' 'BXP' 'C' 'CA' 'CAG' 'CAH' 'CAT'\n",
      " 'CB' 'CBG' 'CBOE' 'CBS' 'CCI' 'CCL' 'CELG' 'CERN' 'CF' 'CFG' 'CHD' 'CHK'\n",
      " 'CHRW' 'CHTR' 'CI' 'CINF' 'CL' 'CLX' 'CMA' 'CMCSA' 'CME' 'CMG' 'CMI' 'CMS'\n",
      " 'CNC' 'CNP' 'COF' 'COG' 'COH' 'COL' 'COO' 'COP' 'COST' 'COTY' 'CPB' 'CRM'\n",
      " 'CSCO' 'CSRA' 'CSX' 'CTAS' 'CTL' 'CTSH' 'CTXS' 'CVS' 'CVX' 'CXO' 'D' 'DAL'\n",
      " 'DD' 'DE' 'DFS' 'DG' 'DGX' 'DHI' 'DHR' 'DIS' 'DISCA' 'DISCK' 'DISH' 'DLPH'\n",
      " 'DLR' 'DLTR' 'DOV' 'DOW' 'DPS' 'DRE' 'DRI' 'DTE' 'DUK' 'DVA' 'DVN' 'DXC'\n",
      " 'EA' 'EBAY' 'ECL' 'ED' 'EFX' 'EIX' 'EL' 'EMN' 'EMR' 'EOG' 'EQIX' 'EQR'\n",
      " 'EQT' 'ES' 'ESRX' 'ESS' 'ETFC' 'ETN' 'ETR' 'EVHC' 'EW' 'EXC' 'EXPD' 'EXPE'\n",
      " 'EXR' 'F' 'FAST' 'FB' 'FBHS' 'FCX' 'FDX' 'FE' 'FFIV' 'FIS' 'FISV' 'FITB'\n",
      " 'FL' 'FLIR' 'FLR' 'FLS' 'FMC' 'FOX' 'FOXA' 'FRT' 'FTI' 'FTV' 'GD' 'GE'\n",
      " 'GGP' 'GILD' 'GIS' 'GLW' 'GM' 'GOOG' 'GOOGL' 'GPC' 'GPN' 'GPS' 'GRMN' 'GS'\n",
      " 'GT' 'GWW' 'HAL' 'HAS' 'HBAN' 'HBI' 'HCA' 'HCN' 'HCP' 'HD' 'HES' 'HIG'\n",
      " 'HLT' 'HOG' 'HOLX' 'HON' 'HP' 'HPE' 'HPQ' 'HRB' 'HRL' 'HRS' 'HSIC' 'HST'\n",
      " 'HSY' 'HUM' 'IBM' 'ICE' 'IDXX' 'IFF' 'ILMN' 'INCY' 'INFO' 'INTC' 'INTU'\n",
      " 'IP' 'IPG' 'IR' 'IRM' 'ISRG' 'IT' 'ITW' 'IVZ' 'JBHT' 'JCI' 'JEC' 'JNJ'\n",
      " 'JNPR' 'JPM' 'JWN' 'K' 'KEY' 'KHC' 'KIM' 'KLAC' 'KMB' 'KMI' 'KMX' 'KO'\n",
      " 'KORS' 'KR' 'KSS' 'KSU' 'L' 'LB' 'LEG' 'LEN' 'LH' 'LKQ' 'LLL' 'LLY' 'LNC'\n",
      " 'LNT' 'LOW' 'LRCX' 'LUK' 'LUV' 'LVLT' 'LYB' 'M' 'MA' 'MAA' 'MAC' 'MAR'\n",
      " 'MAS' 'MAT' 'MCD' 'MCHP' 'MCK' 'MCO' 'MDLZ' 'MDT' 'MET' 'MGM' 'MHK' 'MKC'\n",
      " 'MLM' 'MMC' 'MMM' 'MNST' 'MO' 'MON' 'MOS' 'MPC' 'MRK' 'MRO' 'MS' 'MSFT'\n",
      " 'MSI' 'MTB' 'MTD' 'MU' 'MYL' 'NAVI' 'NDAQ' 'NEE' 'NEM' 'NFLX' 'NFX' 'NI'\n",
      " 'NKE' 'NLSN' 'NOC' 'NOV' 'NRG' 'NSC' 'NTAP' 'NTRS' 'NUE' 'NVDA' 'NWS'\n",
      " 'NWSA' 'NYSE:LMT' 'NYSE:NBL' 'NYSE:NWL' 'O' 'OKE' 'OMC' 'ORCL' 'ORLY'\n",
      " 'OXY' 'PAYX' 'PBCT' 'PCAR' 'PCG' 'PCLN' 'PDCO' 'PEG' 'PEP' 'PFE' 'PFG'\n",
      " 'PG' 'PGR' 'PH' 'PHM' 'PKG' 'PKI' 'PLD' 'PM' 'PNC' 'PNR' 'PNW' 'PPG' 'PPL'\n",
      " 'PRGO' 'PRU' 'PSA' 'PSX' 'PVH' 'PWR' 'PX' 'PXD' 'PYPL' 'QCOM' 'QRVO' 'RCL'\n",
      " 'RE' 'REG' 'REGN' 'RF' 'RHI' 'RHT' 'RJF' 'RL' 'RMD' 'ROK' 'ROP' 'ROST'\n",
      " 'RRC' 'RSG' 'RTN' 'SBUX' 'SCG' 'SCHW' 'SEE' 'SHW' 'SIG' 'SJM' 'SLB' 'SLG'\n",
      " 'SNA' 'SNI' 'SNPS' 'SO' 'SPG' 'SPGI' 'SPLS' 'SRCL' 'SRE' 'STI' 'STT' 'STX'\n",
      " 'STZ' 'SWK' 'SWKS' 'SYF' 'SYK' 'SYMC' 'SYY' 'T' 'TAP' 'TEL' 'TGT' 'TIF'\n",
      " 'TJX' 'TMK' 'TMO' 'TRIP' 'TROW' 'TRV' 'TSCO' 'TSN' 'TSS' 'TWX' 'TXN' 'TXT'\n",
      " 'UA' 'UAA' 'UAL' 'UDR' 'UHS' 'ULTA' 'UNH' 'UNM' 'UNP' 'UPS' 'URI' 'USB'\n",
      " 'UTX' 'V' 'VAR' 'VFC' 'VIAB' 'VLO' 'VMC' 'VNO' 'VRSK' 'VRSN' 'VRTX' 'VTR'\n",
      " 'VZ' 'WAT' 'WBA' 'WDC' 'WEC' 'WFC' 'WFM' 'WHR' 'WLTW' 'WM' 'WMB' 'WMT'\n",
      " 'WRK' 'WU' 'WY' 'WYN' 'WYNN' 'XEC' 'XEL' 'XL' 'XLNX' 'XOM' 'XRAY' 'XRX'\n",
      " 'XYL' 'YUM' 'ZBH' 'ZION' 'ZTS']\n"
     ]
    }
   ],
   "source": [
    "stocknames=all5df.Name.unique() \n",
    "stocknames=np.sort(stocknames,kind='quicksort') \n",
    "print(stocknames) "
   ]
  },
  {
   "cell_type": "code",
   "execution_count": 24,
   "metadata": {
    "scrolled": true
   },
   "outputs": [
    {
     "data": {
      "image/png": "[encoded data removed]",
      "text/plain": [
       "<matplotlib.figure.Figure at 0xed750b8>"
      ]
     },
     "metadata": {},
     "output_type": "display_data"
    }
   ],
   "source": [
    "stock = 'AMZN' \n",
    "catagory = 'High'\n",
    "allstocksingle = all5df[all5df['Name'] == stock] #makes matrix with only the stock info\n",
    "\n",
    "x = [dt.datetime.strptime(d,'%Y-%m-%d').date() for d in allstocksingle['Date']] #convert date to something python understands\n",
    "y = allstocksingle[catagory] #plots which ever catagory you entered above\n",
    "\n",
    "plt.gca().xaxis.set_major_formatter(mdates.DateFormatter('%m/%d/%Y')) #display the date properly\n",
    "plt.gca().xaxis.set_major_locator(mdates.DayLocator(interval=60)) #x axis tick every 60 days\n",
    "plt.gca().yaxis.set_major_locator(ticker.MultipleLocator(100)) # sets y axis tick spacing to 100\n",
    "\n",
    "plt.plot(x,y) #plots the x and y\n",
    "plt.grid(True) #turns on axis grid\n",
    "plt.ylim(0) #sets the y axis min to zero\n",
    "plt.xticks(rotation=90,fontsize = 10) #rotates the x axis ticks 90 degress and font size 10\n",
    "plt.title(stock) #prints the title on the top\n",
    "plt.ylabel('Stock Price For '+ catagory) #labels y axis\n",
    "plt.xlabel('Date') #labels x axis\n",
    "\n",
    "plt.show()"
   ]
  },
  {
   "cell_type": "code",
   "execution_count": 30,
   "metadata": {},
   "outputs": [
    {
     "data": {
      "image/png": "[encoded data removed]",
      "text/plain": [
       "<matplotlib.figure.Figure at 0xe22e358>"
      ]
     },
     "metadata": {},
     "output_type": "display_data"
    }
   ],
   "source": [
    "startdate = ('2013-01-01') #enter the start date here, it must be YYYY-MM-DD\n",
    "enddate = ('2014-01-01') #enter the end date here, it must be YYYY-MM-DD\n",
    "\n",
    "plt.gca().xaxis.set_major_formatter(mdates.DateFormatter('%m/%d/%Y')) #display the date\n",
    "plt.gca().xaxis.set_major_locator(mdates.DayLocator(interval=20)) #x axis tick every 20 days\n",
    "plt.gca().yaxis.set_major_locator(ticker.MultipleLocator(50)) # sets y axis tick spacing to 50\n",
    "\n",
    "plt.plot(x,y) #plots the x and y\n",
    "plt.grid(True)\n",
    "plt.xlim(startdate,enddate) #this is the new line of code that sets the start and end limits on the x axis\n",
    "plt.ylim(0, 500) #sets the y axis min to zero and y max to 500\n",
    "plt.xticks(rotation=90,fontsize = 10) #rotates the x axis ticks 90 degress and font size 10\n",
    "plt.title(stock+ '  '+ startdate + ' to ' + enddate) #prints the title on the top\n",
    "\n",
    "plt.ylabel('Stock Price For '+ catagory) #labels y axis\n",
    "plt.xlabel('Date') #labels x axis\n",
    "plt.show()"
   ]
  }
 ],
 "metadata": {
  "kernelspec": {
   "display_name": "Python 2",
   "language": "python",
   "name": "python2"
  },
  "language_info": {
   "codemirror_mode": {
    "name": "ipython",
    "version": 2
   },
   "file_extension": ".py",
   "mimetype": "text/x-python",
   "name": "python",
   "nbconvert_exporter": "python",
   "pygments_lexer": "ipython2",
   "version": "2.7.14"
  }
 },
 "nbformat": 4,
 "nbformat_minor": 2
}
